{
 "cells": [
  {
   "cell_type": "code",
   "execution_count": null,
   "metadata": {},
   "outputs": [],
   "source": [
    "import csv\n",
    "import time \n",
    "from lxml import html\n",
    "from selenium import webdriver\n",
    "from selenium.webdriver.common.keys import Keys\n",
    "from selenium.webdriver.common.action_chains import ActionChains\n",
    "\n",
    "url = 'https://tw.hotels.com/'\n",
    "key = '台北市'\n",
    "checkin = '2019-04-27'\n",
    "checkout = '2019-04-29'\n",
    "\n",
    "driver = None"
   ]
  },
  {
   "cell_type": "code",
   "execution_count": null,
   "metadata": {},
   "outputs": [],
   "source": [
    "def start_driver():\n",
    "    global driver\n",
    "    print('啟動 WebDriver...')\n",
    "    driver = webdriver.Chrome('./chromedriver')\n",
    "    driver.implicitly_wait(10)"
   ]
  },
  {
   "cell_type": "code",
   "execution_count": null,
   "metadata": {},
   "outputs": [],
   "source": [
    "def close_driver():\n",
    "    global driver\n",
    "    driver.quit()\n",
    "    print('關閉 WebDriver ...')"
   ]
  },
  {
   "cell_type": "code",
   "execution_count": null,
   "metadata": {},
   "outputs": [],
   "source": [
    "def get_page(url):\n",
    "    global driver\n",
    "    print('取得網頁...')\n",
    "    driver.get(url)\n",
    "    time.sleep(2)"
   ]
  },
  {
   "cell_type": "code",
   "execution_count": null,
   "metadata": {},
   "outputs": [],
   "source": [
    "def search_hotel(searchKey, checkin, checkout):\n",
    "    global driver\n",
    "    searchEle = driver.find_element_by_xpath('//input[contains(@id,\"destination\")]')\n",
    "    checkInEle = driver.find_element_by_xpath('//input[contains(@class,\"check-in\")]')\n",
    "    checkOutEle = driver.find_element_by_xpath('//input[contains(@class,\"check-out\")]')\n",
    "\n",
    "    if searchEle and checkInEle and checkOutEle:    \n",
    "        actions = ActionChains(driver)     # 關閉彈出框\n",
    "        actions.send_keys(Keys.TAB)\n",
    "        actions.send_keys(Keys.TAB)\n",
    "        actions.send_keys(Keys.TAB)\n",
    "        actions.send_keys(Keys.TAB)\n",
    "        actions.send_keys(Keys.ENTER)\n",
    "        actions.perform()\n",
    "               \n",
    "        searchEle.send_keys(searchKey)  # 輸入搜尋條件\n",
    "        searchEle.send_keys(Keys.TAB)        \n",
    "        checkInEle.clear()\n",
    "        checkInEle.send_keys(checkin)\n",
    "        checkOutEle.clear()\n",
    "        checkOutEle.send_keys(checkout)\n",
    "        checkOutEle.send_keys(Keys.ENTER)  # 送出搜尋    \n",
    "        \n",
    "        time.sleep(10)\n",
    "        menu = driver.find_element_by_xpath('//*[@id=\"enhanced-sort\"]/li[5]/a')\n",
    "        if menu:\n",
    "            actions = ActionChains(driver)\n",
    "            actions.move_to_element(menu)\n",
    "            actions.perform()\n",
    "            price = driver.find_element_by_xpath('//*[@id=\"sort-submenu-price\"]/li[2]/a')\n",
    "            if price:\n",
    "                price.click()\n",
    "                time.sleep(10)\n",
    "                return True\n",
    "    return False"
   ]
  },
  {
   "cell_type": "code",
   "execution_count": null,
   "metadata": {},
   "outputs": [],
   "source": [
    "def grab_hotels():\n",
    "    global driver\n",
    "    hotels = driver.find_elements_by_xpath(\"//section[@class='hotel-wrap']\")   \n",
    "    found_hotels = [[\"旅館名稱\",'價格','星級','地址']]\n",
    "    i = 0\n",
    "    for hotel in hotels:\n",
    "        hotelName = driver.find_elements_by_xpath('//h3/a')\n",
    "        #print(hotelName[i].get_attribute('innerHTML'))\n",
    "        Name = hotelName[i].text\n",
    "        price = driver.find_elements_by_xpath('//div[@class=\"price\"]/a/ins')\n",
    "        try:\n",
    "            if price:\n",
    "                price = price[i].text.replace(',','').strip()\n",
    "            else:\n",
    "                price = driver.find_elements_by_xpath('//div[@class=\"price\"]/a')\n",
    "                price = price[i].text.replace(\",\",\"\").strip()\n",
    "        except IndexError:\n",
    "            price = '已訂滿'\n",
    "        rating = driver.find_elements_by_xpath('//span[@class=\"star-rating-text\"]')\n",
    "        try:\n",
    "            if rating:\n",
    "                rating = rating[i].text\n",
    "            else:\n",
    "                rating = driver.find_elements_by_xpath('//span[@class=\"star-rating-text star-rating-text-strong\"]')\n",
    "                rating = rating[i].text\n",
    "        except IndexError:\n",
    "            rating = 'None'\n",
    "        address = driver.find_elements_by_xpath('//span[@dir=\"ltr\"]')\n",
    "        if address:\n",
    "            address = address[i].text\n",
    "            \n",
    "        item = [Name,price,rating,address]\n",
    "        found_hotels.append(item)\n",
    "        i += 1\n",
    "    return found_hotels"
   ]
  },
  {
   "cell_type": "code",
   "execution_count": null,
   "metadata": {},
   "outputs": [],
   "source": [
    "def parse_hotels(url,searchKey, checkin, checkout):\n",
    "    start_driver()\n",
    "    get_page(url)\n",
    "    if search_hotel(searchKey,checkin,checkout):\n",
    "        hotels = grab_hotels()\n",
    "        close_driver()\n",
    "        return hotels\n",
    "    else:\n",
    "        print(\"Error...\")\n",
    "        return []"
   ]
  },
  {
   "cell_type": "code",
   "execution_count": null,
   "metadata": {},
   "outputs": [],
   "source": [
    "def image_scral():\n",
    "    global driver\n",
    "    figure = driver.find_elements_by_class_name('image')\n",
    "    for i in range(len(figure)):\n",
    "        print(figure[i].a)"
   ]
  },
  {
   "cell_type": "code",
   "execution_count": null,
   "metadata": {},
   "outputs": [],
   "source": [
    "def save_to_csv(items,file):\n",
    "    with open(file,'w+',newline=\"\",encoding='utf-8-sig') as f:\n",
    "        writer = csv.writer(f)\n",
    "        for item in items:\n",
    "            writer.writerow(item)"
   ]
  },
  {
   "cell_type": "code",
   "execution_count": null,
   "metadata": {},
   "outputs": [],
   "source": [
    "if __name__ == '__main__':\n",
    "    hotels = parse_hotels(url,key,checkin,checkout)\n",
    "    n = 0\n",
    "    for hotel in hotels:\n",
    "        if n == 0:\n",
    "            n +=1\n",
    "            continue       \n",
    "        print(\"{}. {}\\n 價格:{} 星級:{}\\n  地址:{}\".format(n,hotel[0],hotel[1],hotel[2],hotel[3]))\n",
    "        n +=1\n",
    "    #image_scral()    \n",
    "    save_to_csv(hotels,'hotels.csv')"
   ]
  }
 ],
 "metadata": {
  "kernelspec": {
   "display_name": "Python 3",
   "language": "python",
   "name": "python3"
  },
  "language_info": {
   "codemirror_mode": {
    "name": "ipython",
    "version": 3
   },
   "file_extension": ".py",
   "mimetype": "text/x-python",
   "name": "python",
   "nbconvert_exporter": "python",
   "pygments_lexer": "ipython3",
   "version": "3.7.1"
  }
 },
 "nbformat": 4,
 "nbformat_minor": 2
}
